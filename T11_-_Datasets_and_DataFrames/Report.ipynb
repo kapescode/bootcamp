{
 "cells": [
  {
   "cell_type": "code",
   "execution_count": 377,
   "metadata": {
    "id": "h0LVvvnfJsg5"
   },
   "outputs": [],
   "source": [
    "# Import pandas\n",
    "import pandas as pd\n"
   ]
  },
  {
   "cell_type": "code",
   "execution_count": 378,
   "metadata": {
    "id": "rv2oLRnPK36J"
   },
   "outputs": [
    {
     "name": "stderr",
     "output_type": "stream",
     "text": [
      "/var/folders/3x/wp66yfsd3gzg96wsr396g_j00000gn/T/ipykernel_95796/1558994609.py:2: FutureWarning: The 'delim_whitespace' keyword in pd.read_csv is deprecated and will be removed in a future version. Use ``sep='\\s+'`` instead\n",
      "  df = pd.read_csv('balance.txt', delim_whitespace=True)\n"
     ]
    }
   ],
   "source": [
    "# Create a DataFrame with balance.txt\n",
    "df = pd.read_csv('balance.txt', delim_whitespace=True)"
   ]
  },
  {
   "cell_type": "code",
   "execution_count": 379,
   "metadata": {},
   "outputs": [
    {
     "name": "stdout",
     "output_type": "stream",
     "text": [
      "Ethnicity\n",
      "African American    47.682101\n",
      "Asian               44.187833\n",
      "Caucasian           44.521945\n",
      "Name: Income, dtype: float64\n"
     ]
    }
   ],
   "source": [
    "# Sort average income by each ethnicity \n",
    "\n",
    "average_income = df.groupby('Ethnicity')['Income'].mean()\n",
    "print(average_income)\n"
   ]
  },
  {
   "cell_type": "code",
   "execution_count": 380,
   "metadata": {},
   "outputs": [
    {
     "name": "stdout",
     "output_type": "stream",
     "text": [
      "The average income for married people is: 46.21708163265307\n",
      "The average income for single people is: 43.641090322580645\n"
     ]
    }
   ],
   "source": [
    "# On average, do single or married have a higher income?\n",
    "df_married = df[df['Married'] == 'Yes']\n",
    "average_income_married = df_married['Income'].mean()\n",
    "print(\"The average income for married people is:\", average_income_married)\n",
    "\n",
    "df_single = df[df['Married'] == 'No']\n",
    "average_income_single = df_single['Income'].mean()\n",
    "print(\"The average income for single people is:\", average_income_single)\n",
    "\n",
    "# Married have higher income\n"
   ]
  },
  {
   "cell_type": "code",
   "execution_count": 381,
   "metadata": {},
   "outputs": [
    {
     "name": "stdout",
     "output_type": "stream",
     "text": [
      "The highest income in the data is: 186.634\n",
      "The lowest income in the data is: 10.354\n"
     ]
    }
   ],
   "source": [
    "# Print the highest income\n",
    "highest_income = df['Income'].max()\n",
    "print(\"The highest income in the data is:\", highest_income)\n",
    "\n",
    "# Print the lowest income\n",
    "lowest_income = df['Income'].min()\n",
    "print(\"The lowest income in the data is:\", lowest_income)"
   ]
  },
  {
   "cell_type": "code",
   "execution_count": 382,
   "metadata": {},
   "outputs": [
    {
     "name": "stdout",
     "output_type": "stream",
     "text": [
      "The total number of cards in the dataset is 1183\n"
     ]
    }
   ],
   "source": [
    "# Total number of cards recorded in dataset\n",
    "total_cards = df['Cards'].sum()\n",
    "print(\"The total number of cards in the dataset is\", total_cards)\n"
   ]
  },
  {
   "cell_type": "code",
   "execution_count": 383,
   "metadata": {},
   "outputs": [
    {
     "name": "stdout",
     "output_type": "stream",
     "text": [
      "Number of females is:  207\n",
      "Number of males is:  193\n"
     ]
    }
   ],
   "source": [
    "# Number of females \n",
    "\n",
    "df_female = df[df['Gender'] == 'Female']\n",
    "df_n_female = df_female['Gender'].count()\n",
    "print(\"Number of females is: \", df_n_female)\n",
    "\n",
    "# Nunber of males\n",
    "\n",
    "df_male = df[df['Gender'] == 'Male']\n",
    "df_n_male = df_male['Gender'].count()\n",
    "print(\"Number of males is: \", df_n_male)\n"
   ]
  },
  {
   "cell_type": "markdown",
   "metadata": {
    "id": "_LXpBJXZLYoh"
   },
   "source": [
    "Write the code needed to produce a report that provides the following information:\n",
    "* Compare the average income based on ethnicity.\n",
    "* On average, do married or single people have a higher balance?\n",
    "* What is the highest income in our dataset?\n",
    "* What is the lowest income in our dataset?\n",
    "* How many cards do we have recorded in our dataset? (Hint: use `sum()`)\n",
    "* How many females do we have information for vs how many males? (Hint: use `count()` for a list of all methods for computation of descriptive stats, explore the [pandas documentation](https://pandas.pydata.org/pandas-docs/stable/reference/frame.html#computations-descriptive-stats)).\n",
    "\n",
    "\n"
   ]
  }
 ],
 "metadata": {
  "colab": {
   "provenance": []
  },
  "kernelspec": {
   "display_name": "Python 3 (ipykernel)",
   "language": "python",
   "name": "python3"
  },
  "language_info": {
   "codemirror_mode": {
    "name": "ipython",
    "version": 3
   },
   "file_extension": ".py",
   "mimetype": "text/x-python",
   "name": "python",
   "nbconvert_exporter": "python",
   "pygments_lexer": "ipython3",
   "version": "3.12.3"
  }
 },
 "nbformat": 4,
 "nbformat_minor": 4
}
