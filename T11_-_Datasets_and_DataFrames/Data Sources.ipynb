{
 "cells": [
  {
   "cell_type": "code",
   "execution_count": null,
   "id": "500ee78f-e544-4559-86c1-26e086f80a03",
   "metadata": {},
   "outputs": [],
   "source": []
  }
 ],
 "metadata": {
  "kernelspec": {
   "display_name": "",
   "name": ""
  },
  "language_info": {
   "name": ""
  }
 },
 "nbformat": 4,
 "nbformat_minor": 5
}
